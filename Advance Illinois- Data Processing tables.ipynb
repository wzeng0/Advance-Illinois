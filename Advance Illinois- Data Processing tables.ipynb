{
 "cells": [
  {
   "cell_type": "code",
   "execution_count": 88,
   "id": "6de8c9be",
   "metadata": {},
   "outputs": [],
   "source": [
    "import pandas as pd\n",
    "import numpy as np"
   ]
  },
  {
   "cell_type": "code",
   "execution_count": 218,
   "id": "5bb9ee9c",
   "metadata": {},
   "outputs": [],
   "source": [
    "house_schools = pd.read_csv(\"../Techteam/Data/LegSheets house.csv\")\n",
    "house_schools = house_schools[[\"Type\", \"SCHOOL DISTRICT\", \"ENROLLMENT\", \"% OF FULL \\nFUNDING\", \"TOTAL GAP TO FULL FUNDING\", \"PER PUPIL GAP TO FULL FUNDING\"]].rename(columns = {\"Type\": \"District\"}).sort_values(by = \"District\")\n",
    "house_sheet = pd.read_csv(\"../Techteam/Data/GA House.csv\")[[\"Representative\", \"District\"]]\n",
    "house_names = house_sheet[\"Representative\"].values\n",
    "house = pd.merge(house_sheet, house_schools, on=[\"District\"])\n",
    "house = house.drop(['District'], axis=1).drop_duplicates()\n",
    "\n",
    "cps_house = house.loc[house[\"SCHOOL DISTRICT\"] == 'CITY OF CHICAGO SCHOOL DIST 299']\n",
    "cps_house_index = house.loc[house[\"SCHOOL DISTRICT\"] == 'CITY OF CHICAGO SCHOOL DIST 299'].index\n",
    "cps_house_df = cps_house\n",
    "\n",
    "house = house.drop(cps_house_index)\n",
    "\n",
    "def house_df(name):\n",
    "    \"\"\"takes representative name and pulls their info from house df\"\"\"\n",
    "    return house.loc[house[\"Representative\"] == name]\n",
    "\n",
    "house_df_list = []\n",
    "for i in house_names:\n",
    "    empty_df = pd.DataFrame({\n",
    "    })\n",
    "    empty_df = house_df(i)\n",
    "    house_df_list.append(empty_df)"
   ]
  },
  {
   "cell_type": "code",
   "execution_count": 219,
   "id": "3a76debc",
   "metadata": {},
   "outputs": [],
   "source": [
    "sen_schools = pd.read_csv(\"../Techteam/Data/LegSheets senators.csv\")\n",
    "sen_schools = sen_schools[[\"Type\", \"SCHOOL DISTRICT\", \"ENROLLMENT\", \"% OF FULL \\nFUNDING\", \"TOTAL GAP TO FULL FUNDING\", \"PER PUPIL GAP TO FULL FUNDING\"]].rename(columns = {\"Type\": \"District\"}).sort_values(by = \"District\")\n",
    "sen_sheet = pd.read_csv(\"../Techteam/Data/GA Senators.csv\")[[\"Senator\", \"District\"]]\n",
    "sen_names = sen_sheet[\"Senator\"].values\n",
    "senators = pd.merge(sen_sheet, sen_schools, on=[\"District\"])\n",
    "senators = senators.drop(['District'], axis=1).drop_duplicates()\n",
    "\n",
    "cps_senators = senators.loc[senators[\"SCHOOL DISTRICT\"] == 'CITY OF CHICAGO SCHOOL DIST 299']\n",
    "cps_senators_index = senators.loc[senators[\"SCHOOL DISTRICT\"] == 'CITY OF CHICAGO SCHOOL DIST 299'].index\n",
    "cps_senators_df = cps_senators\n",
    "\n",
    "senators = senators.drop(cps_senators_index)\n",
    "\n",
    "def sen_df(name):\n",
    "    \"\"\"takes senator name and pulls their info from senators df\"\"\"\n",
    "    return senators.loc[senators[\"Senator\"] == name]\n",
    "\n",
    "sen_df_list = []\n",
    "for i in sen_names:\n",
    "    empty_df = pd.DataFrame({\n",
    "    })\n",
    "    empty_df = sen_df(i)\n",
    "    sen_df_list.append(empty_df)"
   ]
  },
  {
   "cell_type": "code",
   "execution_count": 220,
   "id": "32c38d4b",
   "metadata": {},
   "outputs": [
    {
     "data": {
      "text/html": [
       "<div>\n",
       "<style scoped>\n",
       "    .dataframe tbody tr th:only-of-type {\n",
       "        vertical-align: middle;\n",
       "    }\n",
       "\n",
       "    .dataframe tbody tr th {\n",
       "        vertical-align: top;\n",
       "    }\n",
       "\n",
       "    .dataframe thead th {\n",
       "        text-align: right;\n",
       "    }\n",
       "</style>\n",
       "<table border=\"1\" class=\"dataframe\">\n",
       "  <thead>\n",
       "    <tr style=\"text-align: right;\">\n",
       "      <th></th>\n",
       "      <th>Representative</th>\n",
       "      <th>SCHOOL DISTRICT</th>\n",
       "      <th>ENROLLMENT</th>\n",
       "      <th>% OF FULL \\nFUNDING</th>\n",
       "      <th>TOTAL GAP TO FULL FUNDING</th>\n",
       "      <th>PER PUPIL GAP TO FULL FUNDING</th>\n",
       "      <th>Senator</th>\n",
       "    </tr>\n",
       "  </thead>\n",
       "  <tbody>\n",
       "    <tr>\n",
       "      <th>1742</th>\n",
       "      <td>Curtis J. Tarver, II</td>\n",
       "      <td>CITY OF CHICAGO SCHOOL DIST 299</td>\n",
       "      <td>332284.0</td>\n",
       "      <td>75%</td>\n",
       "      <td>$1,419,279,428</td>\n",
       "      <td>$4,271</td>\n",
       "      <td>Karina Villa</td>\n",
       "    </tr>\n",
       "  </tbody>\n",
       "</table>\n",
       "</div>"
      ],
      "text/plain": [
       "            Representative                  SCHOOL DISTRICT  ENROLLMENT  \\\n",
       "1742  Curtis J. Tarver, II  CITY OF CHICAGO SCHOOL DIST 299    332284.0   \n",
       "\n",
       "     % OF FULL \\nFUNDING TOTAL GAP TO FULL FUNDING  \\\n",
       "1742                 75%            $1,419,279,428   \n",
       "\n",
       "     PER PUPIL GAP TO FULL FUNDING       Senator  \n",
       "1742                        $4,271  Karina Villa  "
      ]
     },
     "execution_count": 220,
     "metadata": {},
     "output_type": "execute_result"
    }
   ],
   "source": [
    "chicago_sen = cps_senators_df[\"Senator\"].values[0]\n",
    "chicago_combined = cps_house_df\n",
    "chicago_combined[\"Senator\"] = [chicago_sen]\n",
    "chicago_combined"
   ]
  },
  {
   "cell_type": "code",
   "execution_count": null,
   "id": "c2786ec6",
   "metadata": {},
   "outputs": [],
   "source": [
    "#do separate list for chicago district schools only, remove these rows from sen and house sheet"
   ]
  }
 ],
 "metadata": {
  "kernelspec": {
   "display_name": "Python 3 (ipykernel)",
   "language": "python",
   "name": "python3"
  },
  "language_info": {
   "codemirror_mode": {
    "name": "ipython",
    "version": 3
   },
   "file_extension": ".py",
   "mimetype": "text/x-python",
   "name": "python",
   "nbconvert_exporter": "python",
   "pygments_lexer": "ipython3",
   "version": "3.9.13"
  }
 },
 "nbformat": 4,
 "nbformat_minor": 5
}
