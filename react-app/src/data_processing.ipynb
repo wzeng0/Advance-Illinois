{
 "cells": [
  {
   "cell_type": "code",
   "execution_count": 144,
   "id": "6de8c9be",
   "metadata": {},
   "outputs": [],
   "source": [
    "import pandas as pd\n",
    "import numpy as np"
   ]
  },
  {
   "cell_type": "code",
   "execution_count": 145,
   "id": "3a76debc",
   "metadata": {},
   "outputs": [],
   "source": [
    "sen_schools = pd.read_csv(\"../Techteam/Data/LegSheets senators.csv\")\n",
    "sen_schools = sen_schools[[\"Type\", \"SCHOOL DISTRICT\", \"ENROLLMENT\", \"% OF FULL \\nFUNDING\", \"TOTAL GAP TO FULL FUNDING\", \"PER PUPIL GAP TO FULL FUNDING\"]].rename(columns = {\"Type\": \"District\"}).sort_values(by = \"District\")\n",
    "sen_sheet = pd.read_csv(\"../Techteam/Data/GA Senators.csv\")[[\"Senator\", \"District\"]]\n",
    "sen_names = sen_sheet[\"Senator\"].values\n",
    "\n",
    "senators = pd.merge(sen_sheet, sen_schools, on=[\"District\"])\n",
    "senators = senators.drop(['District'], axis=1).drop_duplicates()\n",
    "def sen_df(name):\n",
    "    \"\"\"takes senator name and pulls their info from senators df\"\"\"\n",
    "    return senators.loc[senators[\"Senator\"] == name]\n",
    "\n",
    "sen_df_list = []\n",
    "for i in sen_names:\n",
    "    empty_df = pd.DataFrame({\n",
    "    })\n",
    "    empty_df = sen_df(i)\n",
    "    sen_df_list.append(empty_df)"
   ]
  },
  {
   "cell_type": "code",
   "execution_count": 146,
   "id": "5bb9ee9c",
   "metadata": {},
   "outputs": [],
   "source": [
    "house_schools = pd.read_csv(\"../Techteam/Data/LegSheets house.csv\")\n",
    "house_schools = house_schools[[\"Type\", \"SCHOOL DISTRICT\", \"ENROLLMENT\", \"% OF FULL \\nFUNDING\", \"TOTAL GAP TO FULL FUNDING\", \"PER PUPIL GAP TO FULL FUNDING\"]].rename(columns = {\"Type\": \"District\"}).sort_values(by = \"District\")\n",
    "house_sheet = pd.read_csv(\"../Techteam/Data/GA House.csv\")[[\"Representative\", \"District\"]]\n",
    "house_names = house_sheet[\"Representative\"].values\n",
    "\n",
    "house = pd.merge(house_sheet, house_schools, on=[\"District\"])\n",
    "house = house.drop(['District'], axis=1).drop_duplicates()\n",
    "def house_df(name):\n",
    "    \"\"\"takes representative name and pulls their info from house df\"\"\"\n",
    "    return house.loc[house[\"Representative\"] == name]\n",
    "\n",
    "house_df_list = []\n",
    "for i in house_names:\n",
    "    empty_df = pd.DataFrame({\n",
    "    })\n",
    "    empty_df = house_df(i)\n",
    "    house_df_list.append(empty_df)"
   ]
  },
  {
   "cell_type": "code",
   "execution_count": null,
   "id": "c2786ec6",
   "metadata": {},
   "outputs": [],
   "source": [
    "#do separate list for chicago district schools only, remove these rows from sen and house sheet"
   ]
  }
 ],
 "metadata": {
  "kernelspec": {
   "display_name": "Python 3 (ipykernel)",
   "language": "python",
   "name": "python3"
  },
  "language_info": {
   "codemirror_mode": {
    "name": "ipython",
    "version": 3
   },
   "file_extension": ".py",
   "mimetype": "text/x-python",
   "name": "python",
   "nbconvert_exporter": "python",
   "pygments_lexer": "ipython3",
   "version": "3.9.13"
  }
 },
 "nbformat": 4,
 "nbformat_minor": 5
}
